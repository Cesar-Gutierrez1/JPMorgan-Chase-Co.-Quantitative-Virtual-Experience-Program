{
 "cells": [
  {
   "cell_type": "code",
   "execution_count": 2,
   "metadata": {},
   "outputs": [],
   "source": [
    "import pandas as pd"
   ]
  },
  {
   "cell_type": "code",
   "execution_count": 3,
   "metadata": {},
   "outputs": [],
   "source": [
    "data = pd.read_csv('Nat_Gas.csv')"
   ]
  },
  {
   "cell_type": "code",
   "execution_count": 4,
   "metadata": {},
   "outputs": [
    {
     "data": {
      "text/html": [
       "<div>\n",
       "<style scoped>\n",
       "    .dataframe tbody tr th:only-of-type {\n",
       "        vertical-align: middle;\n",
       "    }\n",
       "\n",
       "    .dataframe tbody tr th {\n",
       "        vertical-align: top;\n",
       "    }\n",
       "\n",
       "    .dataframe thead th {\n",
       "        text-align: right;\n",
       "    }\n",
       "</style>\n",
       "<table border=\"1\" class=\"dataframe\">\n",
       "  <thead>\n",
       "    <tr style=\"text-align: right;\">\n",
       "      <th></th>\n",
       "      <th>Dates</th>\n",
       "      <th>Prices</th>\n",
       "    </tr>\n",
       "  </thead>\n",
       "  <tbody>\n",
       "    <tr>\n",
       "      <th>0</th>\n",
       "      <td>10/31/20</td>\n",
       "      <td>10.1</td>\n",
       "    </tr>\n",
       "    <tr>\n",
       "      <th>1</th>\n",
       "      <td>11/30/20</td>\n",
       "      <td>10.3</td>\n",
       "    </tr>\n",
       "    <tr>\n",
       "      <th>2</th>\n",
       "      <td>12/31/20</td>\n",
       "      <td>11.0</td>\n",
       "    </tr>\n",
       "    <tr>\n",
       "      <th>3</th>\n",
       "      <td>1/31/21</td>\n",
       "      <td>10.9</td>\n",
       "    </tr>\n",
       "    <tr>\n",
       "      <th>4</th>\n",
       "      <td>2/28/21</td>\n",
       "      <td>10.9</td>\n",
       "    </tr>\n",
       "  </tbody>\n",
       "</table>\n",
       "</div>"
      ],
      "text/plain": [
       "      Dates  Prices\n",
       "0  10/31/20    10.1\n",
       "1  11/30/20    10.3\n",
       "2  12/31/20    11.0\n",
       "3   1/31/21    10.9\n",
       "4   2/28/21    10.9"
      ]
     },
     "execution_count": 4,
     "metadata": {},
     "output_type": "execute_result"
    }
   ],
   "source": [
    "data.head()"
   ]
  },
  {
   "cell_type": "code",
   "execution_count": 14,
   "metadata": {},
   "outputs": [],
   "source": [
    "data['Dates'] = pd.to_datetime(data['Dates'])"
   ]
  },
  {
   "cell_type": "code",
   "execution_count": 15,
   "metadata": {},
   "outputs": [
    {
     "data": {
      "text/html": [
       "<div>\n",
       "<style scoped>\n",
       "    .dataframe tbody tr th:only-of-type {\n",
       "        vertical-align: middle;\n",
       "    }\n",
       "\n",
       "    .dataframe tbody tr th {\n",
       "        vertical-align: top;\n",
       "    }\n",
       "\n",
       "    .dataframe thead th {\n",
       "        text-align: right;\n",
       "    }\n",
       "</style>\n",
       "<table border=\"1\" class=\"dataframe\">\n",
       "  <thead>\n",
       "    <tr style=\"text-align: right;\">\n",
       "      <th></th>\n",
       "      <th>Dates</th>\n",
       "      <th>Prices</th>\n",
       "    </tr>\n",
       "  </thead>\n",
       "  <tbody>\n",
       "    <tr>\n",
       "      <th>0</th>\n",
       "      <td>2020-10-31</td>\n",
       "      <td>10.1</td>\n",
       "    </tr>\n",
       "    <tr>\n",
       "      <th>1</th>\n",
       "      <td>2020-11-30</td>\n",
       "      <td>10.3</td>\n",
       "    </tr>\n",
       "    <tr>\n",
       "      <th>2</th>\n",
       "      <td>2020-12-31</td>\n",
       "      <td>11.0</td>\n",
       "    </tr>\n",
       "    <tr>\n",
       "      <th>3</th>\n",
       "      <td>2021-01-31</td>\n",
       "      <td>10.9</td>\n",
       "    </tr>\n",
       "    <tr>\n",
       "      <th>4</th>\n",
       "      <td>2021-02-28</td>\n",
       "      <td>10.9</td>\n",
       "    </tr>\n",
       "  </tbody>\n",
       "</table>\n",
       "</div>"
      ],
      "text/plain": [
       "       Dates  Prices\n",
       "0 2020-10-31    10.1\n",
       "1 2020-11-30    10.3\n",
       "2 2020-12-31    11.0\n",
       "3 2021-01-31    10.9\n",
       "4 2021-02-28    10.9"
      ]
     },
     "execution_count": 15,
     "metadata": {},
     "output_type": "execute_result"
    }
   ],
   "source": [
    "data.head()"
   ]
  },
  {
   "cell_type": "code",
   "execution_count": 20,
   "metadata": {},
   "outputs": [
    {
     "name": "stdout",
     "output_type": "stream",
     "text": [
      "Estimated value of the gas storage contract: $-150000.00\n"
     ]
    }
   ],
   "source": [
    "\n",
    "def calculate_contract_value(data, injection_dates, withdrawal_dates, purchase_prices, selling_prices, injection_rate, max_volume, storage_costs):\n",
    "    # convert injection_dates and withdrawal_dates to datetime \n",
    "    injection_dates = pd.to_datetime(injection_dates)\n",
    "    withdrawal_dates = pd.to_datetime(withdrawal_dates)\n",
    "\n",
    "    # calculate the cash flow for each injection and withdrawal\n",
    "    cash_flows = []\n",
    "\n",
    "    for injection_date, withdrawal_date, purchase_price, selling_price in zip(injection_dates, withdrawal_dates, purchase_prices, selling_prices):\n",
    "        # find the corresponding gas prices for injection and withdrawal dates\n",
    "        injection_price = data[data['Dates'] == injection_date]['Prices'].values\n",
    "        withdrawal_price = data[data['Dates'] == withdrawal_date]['Prices'].values\n",
    "\n",
    "        # check if gas prices are found for injection and withdrawal dates\n",
    "        if len(injection_price) == 0:\n",
    "            print(f\"Warning: Gas price not found for injection date {injection_date}. Skipping.\")\n",
    "            continue\n",
    "        if len(withdrawal_price) == 0:\n",
    "            print(f\"Warning: Gas price not found for withdrawal date {withdrawal_date}. Skipping.\")\n",
    "            continue\n",
    "\n",
    "        # get the gas prices for injection and withdrawal\n",
    "        purchase_price = injection_price[0]\n",
    "        selling_price = withdrawal_price[0]\n",
    "\n",
    "        # calculate the quantity of gas injected and withdrawn\n",
    "        gas_injected = injection_rate * (withdrawal_date - injection_date).days\n",
    "        gas_withdrawn = injection_rate * (withdrawal_date - injection_date).days\n",
    "\n",
    "        # limit the quantity to the maximum storage volume\n",
    "        gas_injected = min(gas_injected, max_volume)\n",
    "        gas_withdrawn = min(gas_withdrawn, max_volume)\n",
    "\n",
    "        # calculate the cash flow for the injection and withdrawal\n",
    "        cash_flow = (selling_price - purchase_price) * (gas_withdrawn - gas_injected) - storage_costs\n",
    "        cash_flows.append(cash_flow)\n",
    "\n",
    "    # calculate the total value of the contract\n",
    "    contract_value = sum(cash_flows)\n",
    "\n",
    "    return contract_value\n",
    "\n",
    "# example usage of the function\n",
    "injection_dates = ['2021-08-31', '2021-09-30', '2021-10-31']  \n",
    "withdrawal_dates = ['2021-10-31', '2021-11-30', '2021-12-31']  \n",
    "purchase_prices = [2.5, 2.8, 2.7]  \n",
    "selling_prices = [3.0, 3.5, 3.2]  \n",
    "injection_rate = 1000  \n",
    "max_volume = 5000  \n",
    "storage_costs = 50000  \n",
    "\n",
    "contract_value = calculate_contract_value(data, injection_dates, withdrawal_dates, purchase_prices, selling_prices, injection_rate, max_volume, storage_costs)\n",
    "\n",
    "print(f\"Estimated value of the gas storage contract: ${contract_value:.2f}\")\n"
   ]
  },
  {
   "cell_type": "code",
   "execution_count": null,
   "metadata": {},
   "outputs": [],
   "source": []
  }
 ],
 "metadata": {
  "kernelspec": {
   "display_name": "Python 3",
   "language": "python",
   "name": "python3"
  },
  "language_info": {
   "codemirror_mode": {
    "name": "ipython",
    "version": 3
   },
   "file_extension": ".py",
   "mimetype": "text/x-python",
   "name": "python",
   "nbconvert_exporter": "python",
   "pygments_lexer": "ipython3",
   "version": "3.10.6"
  },
  "orig_nbformat": 4
 },
 "nbformat": 4,
 "nbformat_minor": 2
}
